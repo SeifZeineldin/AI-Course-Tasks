{
 "cells": [
  {
   "cell_type": "code",
   "execution_count": 2,
   "id": "550bc916",
   "metadata": {
    "ExecuteTime": {
     "end_time": "2022-06-23T15:21:59.444622Z",
     "start_time": "2022-06-23T15:21:50.285439Z"
    }
   },
   "outputs": [],
   "source": [
    "import pandas as pd"
   ]
  },
  {
   "cell_type": "code",
   "execution_count": 3,
   "id": "d25ee8f1",
   "metadata": {
    "ExecuteTime": {
     "end_time": "2022-06-23T15:21:59.894742Z",
     "start_time": "2022-06-23T15:21:59.448659Z"
    }
   },
   "outputs": [
    {
     "data": {
      "text/plain": [
       "6"
      ]
     },
     "execution_count": 3,
     "metadata": {},
     "output_type": "execute_result"
    }
   ],
   "source": [
    "df=pd.read_excel(\"file_example_XLS_10.xls\")\n",
    "df.index+=1  #to start from 1\n",
    "len(df)"
   ]
  },
  {
   "cell_type": "markdown",
   "id": "a09e65a3",
   "metadata": {},
   "source": [
    "<h1>How to read random rows of file</h1>"
   ]
  },
  {
   "cell_type": "code",
   "execution_count": 75,
   "id": "495efbea",
   "metadata": {
    "ExecuteTime": {
     "end_time": "2022-06-23T09:43:06.085401Z",
     "start_time": "2022-06-23T09:43:06.017414Z"
    }
   },
   "outputs": [
    {
     "data": {
      "text/html": [
       "<div>\n",
       "<style scoped>\n",
       "    .dataframe tbody tr th:only-of-type {\n",
       "        vertical-align: middle;\n",
       "    }\n",
       "\n",
       "    .dataframe tbody tr th {\n",
       "        vertical-align: top;\n",
       "    }\n",
       "\n",
       "    .dataframe thead th {\n",
       "        text-align: right;\n",
       "    }\n",
       "</style>\n",
       "<table border=\"1\" class=\"dataframe\">\n",
       "  <thead>\n",
       "    <tr style=\"text-align: right;\">\n",
       "      <th></th>\n",
       "      <th>0</th>\n",
       "      <th>First Name</th>\n",
       "      <th>Last Name</th>\n",
       "      <th>Gender</th>\n",
       "      <th>Country</th>\n",
       "      <th>Age</th>\n",
       "      <th>Date</th>\n",
       "      <th>Id</th>\n",
       "    </tr>\n",
       "  </thead>\n",
       "  <tbody>\n",
       "    <tr>\n",
       "      <th>4</th>\n",
       "      <td>4</td>\n",
       "      <td>Kathleen</td>\n",
       "      <td>Hanner</td>\n",
       "      <td>Female</td>\n",
       "      <td>United States</td>\n",
       "      <td>25</td>\n",
       "      <td>15/10/2017</td>\n",
       "      <td>3549</td>\n",
       "    </tr>\n",
       "  </tbody>\n",
       "</table>\n",
       "</div>"
      ],
      "text/plain": [
       "   0 First Name Last Name  Gender        Country  Age        Date    Id\n",
       "4  4   Kathleen    Hanner  Female  United States   25  15/10/2017  3549"
      ]
     },
     "execution_count": 75,
     "metadata": {},
     "output_type": "execute_result"
    }
   ],
   "source": [
    "df.sample(n=1) # we ca use (random_state=)  to select same rando, sample"
   ]
  },
  {
   "cell_type": "markdown",
   "id": "f4f0938b",
   "metadata": {},
   "source": [
    "<h1>How append Excel file to existing file</h1>\n"
   ]
  },
  {
   "cell_type": "code",
   "execution_count": 67,
   "id": "66bc98b4",
   "metadata": {
    "ExecuteTime": {
     "end_time": "2022-06-22T08:52:31.056784Z",
     "start_time": "2022-06-22T08:52:29.722712Z"
    }
   },
   "outputs": [],
   "source": [
    "df2=pd.read_excel(\"Data Refresh Sample Data.xlsx\")\n",
    "df=pd.concat([df,df2]).reset_index(drop = True)\n",
    "df.to_excel(\"file_example_XLS_10.xls\",index=False)"
   ]
  },
  {
   "cell_type": "markdown",
   "id": "701ff029",
   "metadata": {
    "ExecuteTime": {
     "end_time": "2022-06-23T08:29:47.479476Z",
     "start_time": "2022-06-23T08:29:47.472858Z"
    }
   },
   "source": [
    "<h1>How append data to existing file</h1>"
   ]
  },
  {
   "cell_type": "code",
   "execution_count": 58,
   "id": "3f25b993",
   "metadata": {
    "ExecuteTime": {
     "end_time": "2022-06-23T09:23:37.819740Z",
     "start_time": "2022-06-23T09:23:37.781683Z"
    }
   },
   "outputs": [
    {
     "name": "stderr",
     "output_type": "stream",
     "text": [
      "C:\\Users\\seif\\AppData\\Local\\Temp\\ipykernel_1792\\2254364305.py:14: FutureWarning: As the xlwt package is no longer maintained, the xlwt engine will be removed in a future version of pandas. This is the only engine in pandas that supports writing in the xls format. Install openpyxl and write to an xlsx file instead. You can set the option io.excel.xls.writer to 'xlwt' to silence this warning. While this option is deprecated and will also raise a warning, it can be globally set and the warning suppressed.\n",
      "  df.to_excel(\"file_example_XLS_10.xls\",index=False)\n"
     ]
    }
   ],
   "source": [
    "df3=pd.DataFrame({\n",
    "    0:[\"6\"],\n",
    "    \"First Name\":[\"amr\"],\n",
    "    \"Last Name\":[\"mohamed\"],\n",
    "     \"Gender\":[\"Male\"],\n",
    "    \"Country\":[\"Egypt\"],\n",
    "    \"Age\":[25],\n",
    "    \"Date\":[\"21/5/2016\"],\n",
    "    \"Id\":[\"1254\"]\n",
    "     \n",
    "    })\n",
    "df=pd.concat([df,df3]).reset_index(drop = True)\n",
    "df.to_excel(\"file_example_XLS_10.xls\",index=False)\n",
    "\n",
    "#Any file except Excel , we useing\n",
    "#df3.to_('file_example_XLS_10.xls', mode='a', index=False, header=False)\n"
   ]
  },
  {
   "cell_type": "markdown",
   "id": "02e8c035",
   "metadata": {
    "ExecuteTime": {
     "end_time": "2022-06-23T07:55:35.550314Z",
     "start_time": "2022-06-23T07:55:35.540342Z"
    }
   },
   "source": [
    "<h1>Aplly custom function</h1>"
   ]
  },
  {
   "cell_type": "code",
   "execution_count": 4,
   "id": "dcb90cff",
   "metadata": {
    "ExecuteTime": {
     "end_time": "2022-06-23T15:22:07.642695Z",
     "start_time": "2022-06-23T15:22:07.506919Z"
    }
   },
   "outputs": [
    {
     "data": {
      "text/html": [
       "<div>\n",
       "<style scoped>\n",
       "    .dataframe tbody tr th:only-of-type {\n",
       "        vertical-align: middle;\n",
       "    }\n",
       "\n",
       "    .dataframe tbody tr th {\n",
       "        vertical-align: top;\n",
       "    }\n",
       "\n",
       "    .dataframe thead th {\n",
       "        text-align: right;\n",
       "    }\n",
       "</style>\n",
       "<table border=\"1\" class=\"dataframe\">\n",
       "  <thead>\n",
       "    <tr style=\"text-align: right;\">\n",
       "      <th></th>\n",
       "      <th>0</th>\n",
       "      <th>First Name</th>\n",
       "      <th>Last Name</th>\n",
       "      <th>Gender</th>\n",
       "      <th>Country</th>\n",
       "      <th>Age</th>\n",
       "      <th>Date</th>\n",
       "      <th>Id</th>\n",
       "    </tr>\n",
       "  </thead>\n",
       "  <tbody>\n",
       "    <tr>\n",
       "      <th>1</th>\n",
       "      <td>1</td>\n",
       "      <td>Dulce</td>\n",
       "      <td>Abril</td>\n",
       "      <td>Female</td>\n",
       "      <td>United States</td>\n",
       "      <td>32</td>\n",
       "      <td>15/10/2017</td>\n",
       "      <td>1562</td>\n",
       "    </tr>\n",
       "    <tr>\n",
       "      <th>2</th>\n",
       "      <td>2</td>\n",
       "      <td>Mara</td>\n",
       "      <td>Hashimoto</td>\n",
       "      <td>Female</td>\n",
       "      <td>Great Britain</td>\n",
       "      <td>25</td>\n",
       "      <td>16/08/2016</td>\n",
       "      <td>1582</td>\n",
       "    </tr>\n",
       "    <tr>\n",
       "      <th>4</th>\n",
       "      <td>4</td>\n",
       "      <td>Kathleen</td>\n",
       "      <td>Hanner</td>\n",
       "      <td>Female</td>\n",
       "      <td>United States</td>\n",
       "      <td>25</td>\n",
       "      <td>15/10/2017</td>\n",
       "      <td>3549</td>\n",
       "    </tr>\n",
       "    <tr>\n",
       "      <th>6</th>\n",
       "      <td>6</td>\n",
       "      <td>amr</td>\n",
       "      <td>mohamed</td>\n",
       "      <td>Male</td>\n",
       "      <td>Egypt</td>\n",
       "      <td>25</td>\n",
       "      <td>21/5/2016</td>\n",
       "      <td>1254</td>\n",
       "    </tr>\n",
       "  </tbody>\n",
       "</table>\n",
       "</div>"
      ],
      "text/plain": [
       "   0 First Name  Last Name  Gender        Country  Age        Date    Id\n",
       "1  1      Dulce      Abril  Female  United States   32  15/10/2017  1562\n",
       "2  2       Mara  Hashimoto  Female  Great Britain   25  16/08/2016  1582\n",
       "4  4   Kathleen     Hanner  Female  United States   25  15/10/2017  3549\n",
       "6  6        amr    mohamed    Male          Egypt   25   21/5/2016  1254"
      ]
     },
     "execution_count": 4,
     "metadata": {},
     "output_type": "execute_result"
    }
   ],
   "source": [
    "def age_group(df,index,col):\n",
    "    if df[col].loc[index]>35:\n",
    "        return \">35\"\n",
    "    else:\n",
    "        return \"<35\"\n",
    "g=df.groupby(lambda x: age_group(df,x,\"Age\"))\n",
    "g.get_group(\"<35\")"
   ]
  },
  {
   "cell_type": "markdown",
   "id": "78d1e34c",
   "metadata": {},
   "source": [
    "<h1>another method</h1>"
   ]
  },
  {
   "cell_type": "code",
   "execution_count": 103,
   "id": "a9a3679f",
   "metadata": {
    "ExecuteTime": {
     "end_time": "2022-06-23T10:23:54.706713Z",
     "start_time": "2022-06-23T10:23:54.680365Z"
    }
   },
   "outputs": [
    {
     "data": {
      "text/html": [
       "<div>\n",
       "<style scoped>\n",
       "    .dataframe tbody tr th:only-of-type {\n",
       "        vertical-align: middle;\n",
       "    }\n",
       "\n",
       "    .dataframe tbody tr th {\n",
       "        vertical-align: top;\n",
       "    }\n",
       "\n",
       "    .dataframe thead th {\n",
       "        text-align: right;\n",
       "    }\n",
       "</style>\n",
       "<table border=\"1\" class=\"dataframe\">\n",
       "  <thead>\n",
       "    <tr style=\"text-align: right;\">\n",
       "      <th></th>\n",
       "      <th>0</th>\n",
       "      <th>First Name</th>\n",
       "      <th>Last Name</th>\n",
       "      <th>Gender</th>\n",
       "      <th>Country</th>\n",
       "      <th>Age</th>\n",
       "      <th>Date</th>\n",
       "      <th>Id</th>\n",
       "      <th>Class</th>\n",
       "    </tr>\n",
       "  </thead>\n",
       "  <tbody>\n",
       "    <tr>\n",
       "      <th>3</th>\n",
       "      <td>3</td>\n",
       "      <td>Philip</td>\n",
       "      <td>Gent</td>\n",
       "      <td>Male</td>\n",
       "      <td>France</td>\n",
       "      <td>36</td>\n",
       "      <td>21/05/2015</td>\n",
       "      <td>2587</td>\n",
       "      <td>&gt;32</td>\n",
       "    </tr>\n",
       "    <tr>\n",
       "      <th>5</th>\n",
       "      <td>5</td>\n",
       "      <td>Nereida</td>\n",
       "      <td>Magwood</td>\n",
       "      <td>Female</td>\n",
       "      <td>United States</td>\n",
       "      <td>58</td>\n",
       "      <td>16/08/2016</td>\n",
       "      <td>2468</td>\n",
       "      <td>&gt;32</td>\n",
       "    </tr>\n",
       "  </tbody>\n",
       "</table>\n",
       "</div>"
      ],
      "text/plain": [
       "   0 First Name Last Name  Gender        Country  Age        Date    Id Class\n",
       "3  3     Philip      Gent    Male         France   36  21/05/2015  2587   >32\n",
       "5  5    Nereida   Magwood  Female  United States   58  16/08/2016  2468   >32"
      ]
     },
     "execution_count": 103,
     "metadata": {},
     "output_type": "execute_result"
    }
   ],
   "source": [
    "def condition(x):\n",
    "    if x>32:\n",
    "        return \">32\"\n",
    "    else:\n",
    "        return '<32'\n",
    "df['Class'] = df['Age'].apply(condition)\n",
    "df[df.Class==\">32\"]"
   ]
  },
  {
   "cell_type": "code",
   "execution_count": null,
   "id": "e63099d7",
   "metadata": {},
   "outputs": [],
   "source": []
  }
 ],
 "metadata": {
  "kernelspec": {
   "display_name": "Python 3 (ipykernel)",
   "language": "python",
   "name": "python3"
  },
  "language_info": {
   "codemirror_mode": {
    "name": "ipython",
    "version": 3
   },
   "file_extension": ".py",
   "mimetype": "text/x-python",
   "name": "python",
   "nbconvert_exporter": "python",
   "pygments_lexer": "ipython3",
   "version": "3.9.12"
  }
 },
 "nbformat": 4,
 "nbformat_minor": 5
}
