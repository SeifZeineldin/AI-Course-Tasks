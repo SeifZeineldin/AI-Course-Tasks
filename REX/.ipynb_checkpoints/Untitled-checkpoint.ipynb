{
 "cells": [
  {
   "cell_type": "code",
   "execution_count": 65,
   "id": "865b3412",
   "metadata": {
    "ExecuteTime": {
     "end_time": "2022-05-12T23:29:24.115421Z",
     "start_time": "2022-05-12T23:29:24.092482Z"
    }
   },
   "outputs": [
    {
     "name": "stdout",
     "output_type": "stream",
     "text": [
      "['seif_zein@yahoo.com', 'mario01@gmail.edu', 'kareemsawy@fayoum.eg', 'mena_ahmed@df.com', 'om01@yahoo.com', 'Hosamail@gmail.com']\n",
      "\n",
      " ['01014587452', '01025478987', '01254789658', '01587496587', '01557874521', '01245787845']\n",
      "\n",
      " ['Seif ', 'Mario ', 'kareem ', 'mena ', 'Omar ', 'Hosam ']\n"
     ]
    }
   ],
   "source": [
    "import re\n",
    "# create Lists\n",
    "email_list=[]\n",
    "phone_list=[]\n",
    "name_list=[]\n",
    "#Open File\n",
    "file=open(\"C:\\\\Users\\\\seif\\\\Desktop\\\\REX\\\\Text.txt\",'r')\n",
    "string=file.read()\n",
    "#create Patterns\n",
    "email_pattern=re.compile(r\"[\\w]+@[\\w]+\\.(com|edu|eg)\")\n",
    "name_pattern=re.compile(r\"\\b[a-zA-z]+\\s\")\n",
    "phone_pattern=re.compile(r\"(010|011|012|015)[0-9]{8}\")\n",
    "#Get patterns\n",
    "email_matches=email_pattern.finditer(string)\n",
    "name_matches=name_pattern.finditer(string)\n",
    "phone_matches=phone_pattern.finditer(string)\n",
    "#append in list\n",
    "for i in email_matches:\n",
    "    email_list.append(i.group())\n",
    "for i in name_matches:\n",
    "    #name_list.append(string[i.span()[0]:i.span()[1]])\n",
    "    if i.group()==\"com \" or i.group()==\"edu \" or i.group()==\"eg \" :\n",
    "        continue\n",
    "    name_list.append(i.group())\n",
    "for i in phone_matches:\n",
    "    phone_list.append(i.group())\n",
    "    \n",
    "\n",
    "print(email_list)\n",
    "print(\"\\n\",phone_list)\n",
    "print(\"\\n\",name_list)\n",
    "file.close()\n"
   ]
  },
  {
   "cell_type": "code",
   "execution_count": null,
   "id": "ae56dcb3",
   "metadata": {},
   "outputs": [],
   "source": []
  },
  {
   "cell_type": "code",
   "execution_count": null,
   "id": "1e76716b",
   "metadata": {},
   "outputs": [],
   "source": []
  }
 ],
 "metadata": {
  "kernelspec": {
   "display_name": "Python 3 (ipykernel)",
   "language": "python",
   "name": "python3"
  },
  "language_info": {
   "codemirror_mode": {
    "name": "ipython",
    "version": 3
   },
   "file_extension": ".py",
   "mimetype": "text/x-python",
   "name": "python",
   "nbconvert_exporter": "python",
   "pygments_lexer": "ipython3",
   "version": "3.9.12"
  }
 },
 "nbformat": 4,
 "nbformat_minor": 5
}
