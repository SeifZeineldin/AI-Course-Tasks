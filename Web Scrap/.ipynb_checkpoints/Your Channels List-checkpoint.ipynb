{
 "cells": [
  {
   "cell_type": "code",
   "execution_count": 41,
   "id": "34149102",
   "metadata": {
    "ExecuteTime": {
     "end_time": "2022-05-23T18:03:25.962791Z",
     "start_time": "2022-05-23T18:03:25.954029Z"
    }
   },
   "outputs": [],
   "source": [
    "from bs4 import BeautifulSoup\n",
    "import csv\n",
    "\n",
    "#seoup=BeautifulSoup(open(\"Channel list - YouTube.html\",encoding=\"utf8\"),'lxml')\n",
    "#match=soup.find_all('div',{'id':'content-section'})\n",
    "#print(soup.prettify())"
   ]
  },
  {
   "cell_type": "code",
   "execution_count": null,
   "id": "628a0903",
   "metadata": {},
   "outputs": [],
   "source": []
  }
 ],
 "metadata": {
  "kernelspec": {
   "display_name": "Python 3 (ipykernel)",
   "language": "python",
   "name": "python3"
  },
  "language_info": {
   "codemirror_mode": {
    "name": "ipython",
    "version": 3
   },
   "file_extension": ".py",
   "mimetype": "text/x-python",
   "name": "python",
   "nbconvert_exporter": "python",
   "pygments_lexer": "ipython3",
   "version": "3.9.12"
  }
 },
 "nbformat": 4,
 "nbformat_minor": 5
}
