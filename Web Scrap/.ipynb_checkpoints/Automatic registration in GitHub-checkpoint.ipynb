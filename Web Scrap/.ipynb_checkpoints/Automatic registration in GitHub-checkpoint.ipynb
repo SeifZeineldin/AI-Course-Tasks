{
 "cells": [
  {
   "cell_type": "code",
   "execution_count": 22,
   "id": "623d235f",
   "metadata": {
    "ExecuteTime": {
     "end_time": "2022-05-22T00:40:21.073813Z",
     "start_time": "2022-05-22T00:39:10.341776Z"
    }
   },
   "outputs": [
    {
     "name": "stderr",
     "output_type": "stream",
     "text": [
      "C:\\Users\\seif\\AppData\\Local\\Temp\\ipykernel_25300\\2207812180.py:8: DeprecationWarning: executable_path has been deprecated, please pass in a Service object\n",
      "  driver= webdriver.Chrome(executable_path=r'chromedriver.exe')\n",
      "C:\\Users\\seif\\AppData\\Local\\Temp\\ipykernel_25300\\2207812180.py:12: DeprecationWarning: find_element_by_* commands are deprecated. Please use find_element() instead\n",
      "  log=driver.find_element_by_link_text(\"Sign in\")\n",
      "C:\\Users\\seif\\AppData\\Local\\Temp\\ipykernel_25300\\2207812180.py:14: DeprecationWarning: find_element_by_* commands are deprecated. Please use find_element() instead\n",
      "  user=driver.find_element_by_id(\"login_field\").send_keys(username)\n",
      "C:\\Users\\seif\\AppData\\Local\\Temp\\ipykernel_25300\\2207812180.py:15: DeprecationWarning: find_element_by_* commands are deprecated. Please use find_element() instead\n",
      "  user=driver.find_element_by_id(\"password\").send_keys(password)\n",
      "C:\\Users\\seif\\AppData\\Local\\Temp\\ipykernel_25300\\2207812180.py:16: DeprecationWarning: find_element_by_* commands are deprecated. Please use find_element() instead\n",
      "  driver.find_element_by_class_name(\"js-sign-in-button\").submit()\n"
     ]
    }
   ],
   "source": [
    "from selenium import webdriver\n",
    "\n",
    "username=input(f\"Enter Your Email\")\n",
    "password=input(f\"Enter Your Password\")\n",
    "driver= webdriver.Chrome(executable_path=r'chromedriver.exe')\n",
    "driver.get(\"https://github.com/\")\n",
    "\n",
    "driver.maximize_window()\n",
    "log=driver.find_element_by_link_text(\"Sign in\")\n",
    "log.click()\n",
    "user=driver.find_element_by_id(\"login_field\").send_keys(username)\n",
    "user=driver.find_element_by_id(\"password\").send_keys(password)\n",
    "driver.find_element_by_class_name(\"js-sign-in-button\").submit()\n"
   ]
  },
  {
   "cell_type": "code",
   "execution_count": null,
   "id": "3771195c",
   "metadata": {},
   "outputs": [],
   "source": []
  }
 ],
 "metadata": {
  "kernelspec": {
   "display_name": "Python 3 (ipykernel)",
   "language": "python",
   "name": "python3"
  },
  "language_info": {
   "codemirror_mode": {
    "name": "ipython",
    "version": 3
   },
   "file_extension": ".py",
   "mimetype": "text/x-python",
   "name": "python",
   "nbconvert_exporter": "python",
   "pygments_lexer": "ipython3",
   "version": "3.9.12"
  }
 },
 "nbformat": 4,
 "nbformat_minor": 5
}
