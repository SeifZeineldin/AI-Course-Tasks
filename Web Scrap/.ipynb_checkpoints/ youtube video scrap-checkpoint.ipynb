{
 "cells": [
  {
   "cell_type": "markdown",
   "id": "60c95917",
   "metadata": {},
   "source": [
    "<h1>Down load all videos from any website</h1>"
   ]
  },
  {
   "cell_type": "code",
   "execution_count": 13,
   "id": "76bcc160",
   "metadata": {
    "ExecuteTime": {
     "end_time": "2022-05-20T20:14:11.785610Z",
     "start_time": "2022-05-20T20:14:00.612054Z"
    }
   },
   "outputs": [
    {
     "name": "stdout",
     "output_type": "stream",
     "text": [
      "Enter page linkhttps://coreyms.com/\n"
     ]
    },
    {
     "data": {
      "text/plain": [
       "'\\nx=input(f\"Please Enter Quality:\")\\nfor i in range (len(video_url)):\\n    print(f\"*************{video_url[i].title}*************\")\\n    video_url[i].streams.filter(res=f\"{x}p\").first().download()\\n    print(f\"*************Done*************\")\\n'"
      ]
     },
     "execution_count": 13,
     "metadata": {},
     "output_type": "execute_result"
    }
   ],
   "source": [
    "# import lib\n",
    "from pytube import YouTube\n",
    "from bs4 import BeautifulSoup\n",
    "import requests\n",
    "\n",
    "#get video link from website\n",
    "web_url=input(f\"Enter page link\")\n",
    "web_site=requests.get(web_url).text\n",
    "web_site=BeautifulSoup(web_site,'lxml')\n",
    "video_link=web_site.find_all('iframe')\n",
    "links=[]\n",
    "for src in video_link:\n",
    "    links.append(src.attrs['src'])  \n",
    "    \n",
    "'''\n",
    "x=input(f\"Please Enter Quality:\")\n",
    "for i in range (len(links)):\n",
    "    print(f\"*************{links[i].title}*************\")\n",
    "    links[i].streams.filter(res=f\"{x}p\").first().download()\n",
    "    print(f\"*************Done*************\")\n",
    "'''\n",
    "\n",
    "\n",
    "#IF i want scrap video id \n",
    "'''\n",
    "#now we have all videos links , we will use get video id from link\n",
    "video_url=[]\n",
    "for ID in links:\n",
    "    ID=ID.split(\"/\")\n",
    "    ID=ID[-1].split(\"?\")\n",
    "    ID=ID[0]   # this video ID\n",
    "\n",
    "'''\n"
   ]
  },
  {
   "cell_type": "markdown",
   "id": "c54c95d3",
   "metadata": {},
   "source": [
    "<h1>Download from Youtube direct</h1>"
   ]
  },
  {
   "cell_type": "code",
   "execution_count": null,
   "id": "8a86d83c",
   "metadata": {},
   "outputs": [],
   "source": [
    "# import lib\n",
    "from pytube import YouTube\n",
    "\n",
    "web_url=input(f\"Enter video link\")\n",
    "quality=input(f\"Enter quality\")\n",
    "video=YouTube(web_url).streams.filter(res=f\"{quality}p\").first().download()"
   ]
  }
 ],
 "metadata": {
  "kernelspec": {
   "display_name": "Python 3 (ipykernel)",
   "language": "python",
   "name": "python3"
  },
  "language_info": {
   "codemirror_mode": {
    "name": "ipython",
    "version": 3
   },
   "file_extension": ".py",
   "mimetype": "text/x-python",
   "name": "python",
   "nbconvert_exporter": "python",
   "pygments_lexer": "ipython3",
   "version": "3.9.12"
  }
 },
 "nbformat": 4,
 "nbformat_minor": 5
}
