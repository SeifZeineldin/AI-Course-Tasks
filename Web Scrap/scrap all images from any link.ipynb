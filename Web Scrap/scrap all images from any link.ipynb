{
 "cells": [
  {
   "cell_type": "markdown",
   "id": "548fc2bb",
   "metadata": {
    "ExecuteTime": {
     "end_time": "2022-05-19T23:43:15.508708Z",
     "start_time": "2022-05-19T23:43:15.487317Z"
    }
   },
   "source": [
    "<h1>For Download any file from any website</h1>\n",
    "\n",
    "\n",
    "        \n"
   ]
  },
  {
   "cell_type": "code",
   "execution_count": 1,
   "id": "2b4aeabf",
   "metadata": {
    "ExecuteTime": {
     "end_time": "2022-05-22T23:39:16.588133Z",
     "start_time": "2022-05-22T23:38:52.369405Z"
    }
   },
   "outputs": [
    {
     "name": "stdout",
     "output_type": "stream",
     "text": [
      "Enter link for websitehttps://classroom.google.com/h\n"
     ]
    }
   ],
   "source": [
    "import requests\n",
    "import urllib.request\n",
    "from bs4 import BeautifulSoup\n",
    "link=input(f\"Enter link for website\")\n",
    "website=requests.get(link).text \n",
    "website_html=BeautifulSoup(website,'lxml')\n",
    "all_image=website_html.find_all('img') #get all image tag\n",
    "image_link=[]\n",
    "file_name=\"1\"\n",
    "for im in all_image:\n",
    "    image_link.append(im.attrs['src']) # get all src from image tag\n",
    "\n",
    "num=0\n",
    "for src in all_image:\n",
    "    im=src[\"src\"]\n",
    "    urllib.request.urlretrieve(im,str(num)+\".png\")\n",
    "    num+=1\n",
    "    \n",
    "\n",
    "    \n",
    "    \n",
    "    '''\n",
    "for src in image_link:\n",
    "    image_content=requests.get(src).content\n",
    "    with open (str(file_name),\"wb\") as file:\n",
    "        file.write(image_content)\n",
    "        file_name+=1\n",
    "    '''\n",
    "              \n"
   ]
  },
  {
   "cell_type": "code",
   "execution_count": null,
   "id": "de098a99",
   "metadata": {},
   "outputs": [],
   "source": []
  }
 ],
 "metadata": {
  "kernelspec": {
   "display_name": "Python 3 (ipykernel)",
   "language": "python",
   "name": "python3"
  },
  "language_info": {
   "codemirror_mode": {
    "name": "ipython",
    "version": 3
   },
   "file_extension": ".py",
   "mimetype": "text/x-python",
   "name": "python",
   "nbconvert_exporter": "python",
   "pygments_lexer": "ipython3",
   "version": "3.9.12"
  }
 },
 "nbformat": 4,
 "nbformat_minor": 5
}
